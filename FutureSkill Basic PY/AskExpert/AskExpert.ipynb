{
 "cells": [
  {
   "cell_type": "code",
   "execution_count": null,
   "metadata": {},
   "outputs": [],
   "source": [
    "import sys\n",
    "from tkinter import Tk, simpledialog, messagebox\n",
    "\n",
    "def read_from_file();\n",
    "    with open('worldcapital.txt','r') as file:\n",
    "        for line in file;\n",
    "            line = line.rstrip('\\n')\n",
    "            country, capital = line.split('/')\n",
    "            country = country.capitalize()\n",
    "            capital = capital.capitalize()\n",
    "            world_capital[country] = capital\n",
    "\n"
   ]
  }
 ],
 "metadata": {
  "language_info": {
   "name": "python"
  },
  "orig_nbformat": 4
 },
 "nbformat": 4,
 "nbformat_minor": 2
}
